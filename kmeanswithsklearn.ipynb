{
 "cells": [
  {
   "cell_type": "code",
   "execution_count": 1,
   "id": "f1c4a278",
   "metadata": {
    "execution": {
     "iopub.execute_input": "2022-09-27T02:03:04.693494Z",
     "iopub.status.busy": "2022-09-27T02:03:04.693052Z",
     "iopub.status.idle": "2022-09-27T02:03:05.832675Z",
     "shell.execute_reply": "2022-09-27T02:03:05.831334Z"
    },
    "papermill": {
     "duration": 1.147347,
     "end_time": "2022-09-27T02:03:05.835395",
     "exception": false,
     "start_time": "2022-09-27T02:03:04.688048",
     "status": "completed"
    },
    "tags": []
   },
   "outputs": [],
   "source": [
    "# import the libraries\n",
    "import matplotlib.pyplot as plt\n",
    "import numpy as np\n",
    "from sklearn.cluster import KMeans"
   ]
  },
  {
   "cell_type": "code",
   "execution_count": 2,
   "id": "d9692884",
   "metadata": {
    "execution": {
     "iopub.execute_input": "2022-09-27T02:03:05.842986Z",
     "iopub.status.busy": "2022-09-27T02:03:05.841753Z",
     "iopub.status.idle": "2022-09-27T02:03:05.847987Z",
     "shell.execute_reply": "2022-09-27T02:03:05.847048Z"
    },
    "papermill": {
     "duration": 0.012174,
     "end_time": "2022-09-27T02:03:05.850356",
     "exception": false,
     "start_time": "2022-09-27T02:03:05.838182",
     "status": "completed"
    },
    "tags": []
   },
   "outputs": [],
   "source": [
    "# prepare the data\n",
    "X = np.array([[5, 3], \n",
    "                   [10, 15], \n",
    "                   [15, 12], \n",
    "                   [24, 10], \n",
    "                   [30, 45], \n",
    "                   [85, 70], \n",
    "                   [71, 80], \n",
    "                   [60, 78], \n",
    "                   [55, 52],\n",
    "                   [80, 91]])\n"
   ]
  },
  {
   "cell_type": "code",
   "execution_count": 3,
   "id": "0de0b631",
   "metadata": {
    "execution": {
     "iopub.execute_input": "2022-09-27T02:03:05.858272Z",
     "iopub.status.busy": "2022-09-27T02:03:05.857189Z",
     "iopub.status.idle": "2022-09-27T02:03:06.035341Z",
     "shell.execute_reply": "2022-09-27T02:03:06.034452Z"
    },
    "papermill": {
     "duration": 0.184548,
     "end_time": "2022-09-27T02:03:06.037572",
     "exception": false,
     "start_time": "2022-09-27T02:03:05.853024",
     "status": "completed"
    },
    "tags": []
   },
   "outputs": [
    {
     "data": {
      "image/png": "[encoded data removed]",
      "text/plain": [
       "<Figure size 432x288 with 1 Axes>"
      ]
     },
     "metadata": {
      "needs_background": "light"
     },
     "output_type": "display_data"
    }
   ],
   "source": [
    "plt.scatter(X[:,0], X[:,1], label='True Position')\n",
    "plt.show()"
   ]
  },
  {
   "cell_type": "code",
   "execution_count": 4,
   "id": "7019f270",
   "metadata": {
    "execution": {
     "iopub.execute_input": "2022-09-27T02:03:06.045240Z",
     "iopub.status.busy": "2022-09-27T02:03:06.044139Z",
     "iopub.status.idle": "2022-09-27T02:03:06.065643Z",
     "shell.execute_reply": "2022-09-27T02:03:06.064848Z"
    },
    "papermill": {
     "duration": 0.027456,
     "end_time": "2022-09-27T02:03:06.067812",
     "exception": false,
     "start_time": "2022-09-27T02:03:06.040356",
     "status": "completed"
    },
    "tags": []
   },
   "outputs": [
    {
     "data": {
      "text/plain": [
       "KMeans(n_clusters=2)"
      ]
     },
     "execution_count": 4,
     "metadata": {},
     "output_type": "execute_result"
    }
   ],
   "source": [
    "# create clusters\n",
    "kmeans = KMeans(n_clusters=2)\n",
    "kmeans.fit(X)"
   ]
  },
  {
   "cell_type": "code",
   "execution_count": 5,
   "id": "e40289d8",
   "metadata": {
    "execution": {
     "iopub.execute_input": "2022-09-27T02:03:06.076101Z",
     "iopub.status.busy": "2022-09-27T02:03:06.075105Z",
     "iopub.status.idle": "2022-09-27T02:03:06.080859Z",
     "shell.execute_reply": "2022-09-27T02:03:06.080179Z"
    },
    "papermill": {
     "duration": 0.01185,
     "end_time": "2022-09-27T02:03:06.082618",
     "exception": false,
     "start_time": "2022-09-27T02:03:06.070768",
     "status": "completed"
    },
    "tags": []
   },
   "outputs": [
    {
     "name": "stdout",
     "output_type": "stream",
     "text": [
      "[[16.8 17. ]\n",
      " [70.2 74.2]]\n",
      "[0 0 0 0 0 1 1 1 1 1]\n"
     ]
    }
   ],
   "source": [
    "# explore the clusters\n",
    "print(kmeans.cluster_centers_)\n",
    "print(kmeans.labels_)"
   ]
  },
  {
   "cell_type": "code",
   "execution_count": 6,
   "id": "ebf829a0",
   "metadata": {
    "execution": {
     "iopub.execute_input": "2022-09-27T02:03:06.090028Z",
     "iopub.status.busy": "2022-09-27T02:03:06.089586Z",
     "iopub.status.idle": "2022-09-27T02:03:06.214087Z",
     "shell.execute_reply": "2022-09-27T02:03:06.213266Z"
    },
    "papermill": {
     "duration": 0.130767,
     "end_time": "2022-09-27T02:03:06.216269",
     "exception": false,
     "start_time": "2022-09-27T02:03:06.085502",
     "status": "completed"
    },
    "tags": []
   },
   "outputs": [
    {
     "data": {
      "image/png": "[encoded data removed]",
      "text/plain": [
       "<Figure size 432x288 with 1 Axes>"
      ]
     },
     "metadata": {
      "needs_background": "light"
     },
     "output_type": "display_data"
    }
   ],
   "source": [
    "# visualize kmeans with two clusters\n",
    "plt.scatter(X[:,0],X[:,1], c=kmeans.labels_, cmap='rainbow')\n",
    "plt.show()"
   ]
  },
  {
   "cell_type": "code",
   "execution_count": 7,
   "id": "540de090",
   "metadata": {
    "execution": {
     "iopub.execute_input": "2022-09-27T02:03:06.226208Z",
     "iopub.status.busy": "2022-09-27T02:03:06.225094Z",
     "iopub.status.idle": "2022-09-27T02:03:06.342471Z",
     "shell.execute_reply": "2022-09-27T02:03:06.340716Z"
    },
    "papermill": {
     "duration": 0.124339,
     "end_time": "2022-09-27T02:03:06.344466",
     "exception": false,
     "start_time": "2022-09-27T02:03:06.220127",
     "status": "completed"
    },
    "tags": []
   },
   "outputs": [
    {
     "data": {
      "image/png": "[encoded data removed]",
      "text/plain": [
       "<Figure size 432x288 with 1 Axes>"
      ]
     },
     "metadata": {
      "needs_background": "light"
     },
     "output_type": "display_data"
    }
   ],
   "source": [
    "# try with 3 clusters\n",
    "kmeans = KMeans(n_clusters=3)\n",
    "kmeans.fit(X)\n",
    "plt.scatter(X[:,0],X[:,1], c=kmeans.labels_, cmap='rainbow')\n",
    "plt.show()"
   ]
  },
  {
   "cell_type": "code",
   "execution_count": 8,
   "id": "3d3e54f4",
   "metadata": {
    "execution": {
     "iopub.execute_input": "2022-09-27T02:03:06.352565Z",
     "iopub.status.busy": "2022-09-27T02:03:06.351831Z",
     "iopub.status.idle": "2022-09-27T02:03:06.487882Z",
     "shell.execute_reply": "2022-09-27T02:03:06.487193Z"
    },
    "papermill": {
     "duration": 0.141987,
     "end_time": "2022-09-27T02:03:06.489690",
     "exception": false,
     "start_time": "2022-09-27T02:03:06.347703",
     "status": "completed"
    },
    "tags": []
   },
   "outputs": [
    {
     "data": {
      "text/plain": [
       "<matplotlib.collections.PathCollection at 0x7f8b0c449dd0>"
      ]
     },
     "execution_count": 8,
     "metadata": {},
     "output_type": "execute_result"
    },
    {
     "data": {
      "image/png": "[encoded data removed]",
      "text/plain": [
       "<Figure size 432x288 with 1 Axes>"
      ]
     },
     "metadata": {
      "needs_background": "light"
     },
     "output_type": "display_data"
    }
   ],
   "source": [
    "# visualize the centre of the three clusters\n",
    "plt.scatter(X[:,0],X[:,1], c=kmeans.labels_, cmap='rainbow')\n",
    "plt.scatter(kmeans.cluster_centers_[:,0], kmeans.cluster_centers_[:,1], c='black')\n"
   ]
  }
 ],
 "metadata": {
  "kernelspec": {
   "display_name": "Python 3",
   "language": "python",
   "name": "python3"
  },
  "language_info": {
   "codemirror_mode": {
    "name": "ipython",
    "version": 3
   },
   "file_extension": ".py",
   "mimetype": "text/x-python",
   "name": "python",
   "nbconvert_exporter": "python",
   "pygments_lexer": "ipython3",
   "version": "3.7.12"
  },
  "papermill": {
   "default_parameters": {},
   "duration": 11.285114,
   "end_time": "2022-09-27T02:03:07.215317",
   "environment_variables": {},
   "exception": null,
   "input_path": "__notebook__.ipynb",
   "output_path": "__notebook__.ipynb",
   "parameters": {},
   "start_time": "2022-09-27T02:02:55.930203",
   "version": "2.3.4"
  }
 },
 "nbformat": 4,
 "nbformat_minor": 5
}
