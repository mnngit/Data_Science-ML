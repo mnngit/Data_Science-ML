{
 "cells": [
  {
   "cell_type": "code",
   "execution_count": 1,
   "id": "60df9290",
   "metadata": {
    "_cell_guid": "b1076dfc-b9ad-4769-8c92-a6c4dae69d19",
    "_uuid": "8f2839f25d086af736a60e9eeb907d3b93b6e0e5",
    "execution": {
     "iopub.execute_input": "2022-09-25T01:22:06.490682Z",
     "iopub.status.busy": "2022-09-25T01:22:06.489627Z",
     "iopub.status.idle": "2022-09-25T01:22:06.501565Z",
     "shell.execute_reply": "2022-09-25T01:22:06.500623Z"
    },
    "papermill": {
     "duration": 0.020553,
     "end_time": "2022-09-25T01:22:06.504076",
     "exception": false,
     "start_time": "2022-09-25T01:22:06.483523",
     "status": "completed"
    },
    "tags": []
   },
   "outputs": [],
   "source": [
    "\n",
    "import numpy as np # linear algebra\n",
    "import pandas as pd # data processing, CSV file I/O (e.g. pd.read_csv)\n",
    "\n",
    "import os\n",
    "for dirname, _, filenames in os.walk('/kaggle/input'):\n",
    "    for filename in filenames:\n",
    "        print(os.path.join(dirname, filename))\n",
    "\n"
   ]
  },
  {
   "cell_type": "code",
   "execution_count": 2,
   "id": "a4552700",
   "metadata": {
    "execution": {
     "iopub.execute_input": "2022-09-25T01:22:06.512217Z",
     "iopub.status.busy": "2022-09-25T01:22:06.511763Z",
     "iopub.status.idle": "2022-09-25T01:22:07.854216Z",
     "shell.execute_reply": "2022-09-25T01:22:07.852736Z"
    },
    "papermill": {
     "duration": 1.349787,
     "end_time": "2022-09-25T01:22:07.857025",
     "exception": false,
     "start_time": "2022-09-25T01:22:06.507238",
     "status": "completed"
    },
    "tags": []
   },
   "outputs": [],
   "source": [
    "from sklearn.datasets import load_iris\n",
    "from sklearn.preprocessing import MinMaxScaler\n",
    "from sklearn.linear_model import LogisticRegression\n",
    "from sklearn.model_selection import train_test_split\n",
    "from sklearn.pipeline import Pipeline"
   ]
  },
  {
   "cell_type": "code",
   "execution_count": 3,
   "id": "0f020b43",
   "metadata": {
    "execution": {
     "iopub.execute_input": "2022-09-25T01:22:07.865596Z",
     "iopub.status.busy": "2022-09-25T01:22:07.864567Z",
     "iopub.status.idle": "2022-09-25T01:22:07.880701Z",
     "shell.execute_reply": "2022-09-25T01:22:07.879352Z"
    },
    "papermill": {
     "duration": 0.023443,
     "end_time": "2022-09-25T01:22:07.883597",
     "exception": false,
     "start_time": "2022-09-25T01:22:07.860154",
     "status": "completed"
    },
    "tags": []
   },
   "outputs": [],
   "source": [
    "iris = load_iris()\n",
    "X_train, X_test, y_train, y_test = train_test_split(iris.data, iris.target, test_size = 0.2, random_state = 42)"
   ]
  },
  {
   "cell_type": "code",
   "execution_count": 4,
   "id": "edacf916",
   "metadata": {
    "execution": {
     "iopub.execute_input": "2022-09-25T01:22:07.891334Z",
     "iopub.status.busy": "2022-09-25T01:22:07.890777Z",
     "iopub.status.idle": "2022-09-25T01:22:07.897512Z",
     "shell.execute_reply": "2022-09-25T01:22:07.896106Z"
    },
    "papermill": {
     "duration": 0.013241,
     "end_time": "2022-09-25T01:22:07.899890",
     "exception": false,
     "start_time": "2022-09-25T01:22:07.886649",
     "status": "completed"
    },
    "tags": []
   },
   "outputs": [],
   "source": [
    "pipe_lr = Pipeline([('minmax', MinMaxScaler()), ('lr', LogisticRegression())])"
   ]
  },
  {
   "cell_type": "code",
   "execution_count": 5,
   "id": "798ad9d7",
   "metadata": {
    "execution": {
     "iopub.execute_input": "2022-09-25T01:22:07.907824Z",
     "iopub.status.busy": "2022-09-25T01:22:07.907402Z",
     "iopub.status.idle": "2022-09-25T01:22:07.936912Z",
     "shell.execute_reply": "2022-09-25T01:22:07.935550Z"
    },
    "papermill": {
     "duration": 0.036558,
     "end_time": "2022-09-25T01:22:07.939613",
     "exception": false,
     "start_time": "2022-09-25T01:22:07.903055",
     "status": "completed"
    },
    "tags": []
   },
   "outputs": [
    {
     "data": {
      "text/plain": [
       "Pipeline(steps=[('minmax', MinMaxScaler()), ('lr', LogisticRegression())])"
      ]
     },
     "execution_count": 5,
     "metadata": {},
     "output_type": "execute_result"
    }
   ],
   "source": [
    "pipe_lr.fit(X_train, y_train)"
   ]
  },
  {
   "cell_type": "code",
   "execution_count": 6,
   "id": "64767c93",
   "metadata": {
    "execution": {
     "iopub.execute_input": "2022-09-25T01:22:07.947544Z",
     "iopub.status.busy": "2022-09-25T01:22:07.947131Z",
     "iopub.status.idle": "2022-09-25T01:22:07.954526Z",
     "shell.execute_reply": "2022-09-25T01:22:07.953076Z"
    },
    "papermill": {
     "duration": 0.01403,
     "end_time": "2022-09-25T01:22:07.956875",
     "exception": false,
     "start_time": "2022-09-25T01:22:07.942845",
     "status": "completed"
    },
    "tags": []
   },
   "outputs": [],
   "source": [
    "score = pipe_lr.score(X_test, y_test)"
   ]
  },
  {
   "cell_type": "code",
   "execution_count": 7,
   "id": "f0e2cd14",
   "metadata": {
    "execution": {
     "iopub.execute_input": "2022-09-25T01:22:07.964481Z",
     "iopub.status.busy": "2022-09-25T01:22:07.964074Z",
     "iopub.status.idle": "2022-09-25T01:22:07.971321Z",
     "shell.execute_reply": "2022-09-25T01:22:07.970356Z"
    },
    "papermill": {
     "duration": 0.013605,
     "end_time": "2022-09-25T01:22:07.973631",
     "exception": false,
     "start_time": "2022-09-25T01:22:07.960026",
     "status": "completed"
    },
    "tags": []
   },
   "outputs": [
    {
     "data": {
      "text/plain": [
       "0.9666666666666667"
      ]
     },
     "execution_count": 7,
     "metadata": {},
     "output_type": "execute_result"
    }
   ],
   "source": [
    "score"
   ]
  },
  {
   "cell_type": "code",
   "execution_count": null,
   "id": "0210be73",
   "metadata": {
    "papermill": {
     "duration": 0.002801,
     "end_time": "2022-09-25T01:22:07.979594",
     "exception": false,
     "start_time": "2022-09-25T01:22:07.976793",
     "status": "completed"
    },
    "tags": []
   },
   "outputs": [],
   "source": []
  }
 ],
 "metadata": {
  "kernelspec": {
   "display_name": "Python 3",
   "language": "python",
   "name": "python3"
  },
  "language_info": {
   "codemirror_mode": {
    "name": "ipython",
    "version": 3
   },
   "file_extension": ".py",
   "mimetype": "text/x-python",
   "name": "python",
   "nbconvert_exporter": "python",
   "pygments_lexer": "ipython3",
   "version": "3.7.12"
  },
  "papermill": {
   "default_parameters": {},
   "duration": 11.747641,
   "end_time": "2022-09-25T01:22:08.703110",
   "environment_variables": {},
   "exception": null,
   "input_path": "__notebook__.ipynb",
   "output_path": "__notebook__.ipynb",
   "parameters": {},
   "start_time": "2022-09-25T01:21:56.955469",
   "version": "2.3.4"
  }
 },
 "nbformat": 4,
 "nbformat_minor": 5
}
