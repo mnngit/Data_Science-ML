{
 "cells": [
  {
   "cell_type": "code",
   "execution_count": 1,
   "id": "ae690594",
   "metadata": {
    "execution": {
     "iopub.execute_input": "2022-09-27T03:50:27.686915Z",
     "iopub.status.busy": "2022-09-27T03:50:27.686262Z",
     "iopub.status.idle": "2022-09-27T03:50:27.697279Z",
     "shell.execute_reply": "2022-09-27T03:50:27.696067Z"
    },
    "papermill": {
     "duration": 0.020519,
     "end_time": "2022-09-27T03:50:27.699647",
     "exception": false,
     "start_time": "2022-09-27T03:50:27.679128",
     "status": "completed"
    },
    "tags": []
   },
   "outputs": [],
   "source": [
    "import pandas as pd\n",
    "import matplotlib.pyplot as plt\n",
    "import numpy as np"
   ]
  },
  {
   "cell_type": "code",
   "execution_count": 2,
   "id": "f8bb5cc3",
   "metadata": {
    "execution": {
     "iopub.execute_input": "2022-09-27T03:50:27.707872Z",
     "iopub.status.busy": "2022-09-27T03:50:27.707183Z",
     "iopub.status.idle": "2022-09-27T03:50:28.442079Z",
     "shell.execute_reply": "2022-09-27T03:50:28.441118Z"
    },
    "papermill": {
     "duration": 0.742057,
     "end_time": "2022-09-27T03:50:28.445006",
     "exception": false,
     "start_time": "2022-09-27T03:50:27.702949",
     "status": "completed"
    },
    "tags": []
   },
   "outputs": [],
   "source": [
    "url = \"https://archive.ics.uci.edu/ml/machine-learning-databases/iris/iris.data\"\n",
    "# assign columns name to the dataset\n",
    "names = ['sepal-lenght','sepal-width','petal-lenght','petal-width','class']\n",
    "\n",
    "# read dataset to pandas dataframe\n",
    "dataset = pd.read_csv(url, names = names)\n"
   ]
  },
  {
   "cell_type": "code",
   "execution_count": 3,
   "id": "bdc0503a",
   "metadata": {
    "execution": {
     "iopub.execute_input": "2022-09-27T03:50:28.453074Z",
     "iopub.status.busy": "2022-09-27T03:50:28.452660Z",
     "iopub.status.idle": "2022-09-27T03:50:28.489273Z",
     "shell.execute_reply": "2022-09-27T03:50:28.488134Z"
    },
    "papermill": {
     "duration": 0.044314,
     "end_time": "2022-09-27T03:50:28.492714",
     "exception": false,
     "start_time": "2022-09-27T03:50:28.448400",
     "status": "completed"
    },
    "tags": []
   },
   "outputs": [
    {
     "data": {
      "text/html": [
       "<div>\n",
       "<style scoped>\n",
       "    .dataframe tbody tr th:only-of-type {\n",
       "        vertical-align: middle;\n",
       "    }\n",
       "\n",
       "    .dataframe tbody tr th {\n",
       "        vertical-align: top;\n",
       "    }\n",
       "\n",
       "    .dataframe thead th {\n",
       "        text-align: right;\n",
       "    }\n",
       "</style>\n",
       "<table border=\"1\" class=\"dataframe\">\n",
       "  <thead>\n",
       "    <tr style=\"text-align: right;\">\n",
       "      <th></th>\n",
       "      <th>sepal-lenght</th>\n",
       "      <th>sepal-width</th>\n",
       "      <th>petal-lenght</th>\n",
       "      <th>petal-width</th>\n",
       "      <th>class</th>\n",
       "    </tr>\n",
       "  </thead>\n",
       "  <tbody>\n",
       "    <tr>\n",
       "      <th>0</th>\n",
       "      <td>5.1</td>\n",
       "      <td>3.5</td>\n",
       "      <td>1.4</td>\n",
       "      <td>0.2</td>\n",
       "      <td>Iris-setosa</td>\n",
       "    </tr>\n",
       "    <tr>\n",
       "      <th>1</th>\n",
       "      <td>4.9</td>\n",
       "      <td>3.0</td>\n",
       "      <td>1.4</td>\n",
       "      <td>0.2</td>\n",
       "      <td>Iris-setosa</td>\n",
       "    </tr>\n",
       "    <tr>\n",
       "      <th>2</th>\n",
       "      <td>4.7</td>\n",
       "      <td>3.2</td>\n",
       "      <td>1.3</td>\n",
       "      <td>0.2</td>\n",
       "      <td>Iris-setosa</td>\n",
       "    </tr>\n",
       "    <tr>\n",
       "      <th>3</th>\n",
       "      <td>4.6</td>\n",
       "      <td>3.1</td>\n",
       "      <td>1.5</td>\n",
       "      <td>0.2</td>\n",
       "      <td>Iris-setosa</td>\n",
       "    </tr>\n",
       "    <tr>\n",
       "      <th>4</th>\n",
       "      <td>5.0</td>\n",
       "      <td>3.6</td>\n",
       "      <td>1.4</td>\n",
       "      <td>0.2</td>\n",
       "      <td>Iris-setosa</td>\n",
       "    </tr>\n",
       "  </tbody>\n",
       "</table>\n",
       "</div>"
      ],
      "text/plain": [
       "   sepal-lenght  sepal-width  petal-lenght  petal-width        class\n",
       "0           5.1          3.5           1.4          0.2  Iris-setosa\n",
       "1           4.9          3.0           1.4          0.2  Iris-setosa\n",
       "2           4.7          3.2           1.3          0.2  Iris-setosa\n",
       "3           4.6          3.1           1.5          0.2  Iris-setosa\n",
       "4           5.0          3.6           1.4          0.2  Iris-setosa"
      ]
     },
     "execution_count": 3,
     "metadata": {},
     "output_type": "execute_result"
    }
   ],
   "source": [
    "dataset.head()"
   ]
  },
  {
   "cell_type": "code",
   "execution_count": 4,
   "id": "99513aa8",
   "metadata": {
    "execution": {
     "iopub.execute_input": "2022-09-27T03:50:28.503896Z",
     "iopub.status.busy": "2022-09-27T03:50:28.502058Z",
     "iopub.status.idle": "2022-09-27T03:50:28.511599Z",
     "shell.execute_reply": "2022-09-27T03:50:28.510686Z"
    },
    "papermill": {
     "duration": 0.017162,
     "end_time": "2022-09-27T03:50:28.514325",
     "exception": false,
     "start_time": "2022-09-27T03:50:28.497163",
     "status": "completed"
    },
    "tags": []
   },
   "outputs": [],
   "source": [
    "X = dataset.iloc[:, :-1].values\n",
    "y = dataset.iloc[:, 4].values"
   ]
  },
  {
   "cell_type": "code",
   "execution_count": 5,
   "id": "6ac9c961",
   "metadata": {
    "execution": {
     "iopub.execute_input": "2022-09-27T03:50:28.526421Z",
     "iopub.status.busy": "2022-09-27T03:50:28.525630Z",
     "iopub.status.idle": "2022-09-27T03:50:29.678447Z",
     "shell.execute_reply": "2022-09-27T03:50:29.677147Z"
    },
    "papermill": {
     "duration": 1.161649,
     "end_time": "2022-09-27T03:50:29.681052",
     "exception": false,
     "start_time": "2022-09-27T03:50:28.519403",
     "status": "completed"
    },
    "tags": []
   },
   "outputs": [],
   "source": [
    "from sklearn.model_selection import train_test_split\n",
    "X_train, X_test, y_train, y_test = train_test_split(X,y, test_size = 0.2)"
   ]
  },
  {
   "cell_type": "code",
   "execution_count": 6,
   "id": "dceb57ac",
   "metadata": {
    "execution": {
     "iopub.execute_input": "2022-09-27T03:50:29.690067Z",
     "iopub.status.busy": "2022-09-27T03:50:29.689028Z",
     "iopub.status.idle": "2022-09-27T03:50:29.695198Z",
     "shell.execute_reply": "2022-09-27T03:50:29.694401Z"
    },
    "papermill": {
     "duration": 0.012873,
     "end_time": "2022-09-27T03:50:29.697325",
     "exception": false,
     "start_time": "2022-09-27T03:50:29.684452",
     "status": "completed"
    },
    "tags": []
   },
   "outputs": [],
   "source": [
    "from sklearn.preprocessing import StandardScaler\n",
    "scaler = StandardScaler()\n",
    "scaler.fit(X_train)\n",
    "X_train = scaler.transform(X_train)\n",
    "X_test = scaler.transform(X_test)"
   ]
  },
  {
   "cell_type": "code",
   "execution_count": 7,
   "id": "4f6763b8",
   "metadata": {
    "execution": {
     "iopub.execute_input": "2022-09-27T03:50:29.706465Z",
     "iopub.status.busy": "2022-09-27T03:50:29.705176Z",
     "iopub.status.idle": "2022-09-27T03:50:29.857379Z",
     "shell.execute_reply": "2022-09-27T03:50:29.855765Z"
    },
    "papermill": {
     "duration": 0.159648,
     "end_time": "2022-09-27T03:50:29.860376",
     "exception": false,
     "start_time": "2022-09-27T03:50:29.700728",
     "status": "completed"
    },
    "tags": []
   },
   "outputs": [
    {
     "data": {
      "text/plain": [
       "KNeighborsClassifier()"
      ]
     },
     "execution_count": 7,
     "metadata": {},
     "output_type": "execute_result"
    }
   ],
   "source": [
    "from sklearn.neighbors import KNeighborsClassifier\n",
    "classifier = KNeighborsClassifier(n_neighbors = 5)\n",
    "classifier.fit(X_train, y_train)"
   ]
  },
  {
   "cell_type": "code",
   "execution_count": 8,
   "id": "437bd15c",
   "metadata": {
    "execution": {
     "iopub.execute_input": "2022-09-27T03:50:29.870631Z",
     "iopub.status.busy": "2022-09-27T03:50:29.870202Z",
     "iopub.status.idle": "2022-09-27T03:50:29.878377Z",
     "shell.execute_reply": "2022-09-27T03:50:29.877414Z"
    },
    "papermill": {
     "duration": 0.015406,
     "end_time": "2022-09-27T03:50:29.880902",
     "exception": false,
     "start_time": "2022-09-27T03:50:29.865496",
     "status": "completed"
    },
    "tags": []
   },
   "outputs": [],
   "source": [
    "y_pred = classifier.predict(X_test)"
   ]
  },
  {
   "cell_type": "code",
   "execution_count": 9,
   "id": "c30b4e59",
   "metadata": {
    "execution": {
     "iopub.execute_input": "2022-09-27T03:50:29.889950Z",
     "iopub.status.busy": "2022-09-27T03:50:29.889515Z",
     "iopub.status.idle": "2022-09-27T03:50:29.903709Z",
     "shell.execute_reply": "2022-09-27T03:50:29.902134Z"
    },
    "papermill": {
     "duration": 0.022186,
     "end_time": "2022-09-27T03:50:29.906933",
     "exception": false,
     "start_time": "2022-09-27T03:50:29.884747",
     "status": "completed"
    },
    "tags": []
   },
   "outputs": [
    {
     "name": "stdout",
     "output_type": "stream",
     "text": [
      "                 precision    recall  f1-score   support\n",
      "\n",
      "    Iris-setosa       1.00      1.00      1.00        10\n",
      "Iris-versicolor       1.00      1.00      1.00         7\n",
      " Iris-virginica       1.00      1.00      1.00        13\n",
      "\n",
      "       accuracy                           1.00        30\n",
      "      macro avg       1.00      1.00      1.00        30\n",
      "   weighted avg       1.00      1.00      1.00        30\n",
      "\n",
      "[[10  0  0]\n",
      " [ 0  7  0]\n",
      " [ 0  0 13]]\n"
     ]
    }
   ],
   "source": [
    "from sklearn.metrics import classification_report, confusion_matrix\n",
    "print(classification_report(y_test, y_pred))\n",
    "print(confusion_matrix(y_test, y_pred))"
   ]
  }
 ],
 "metadata": {
  "kernelspec": {
   "display_name": "Python 3",
   "language": "python",
   "name": "python3"
  },
  "language_info": {
   "codemirror_mode": {
    "name": "ipython",
    "version": 3
   },
   "file_extension": ".py",
   "mimetype": "text/x-python",
   "name": "python",
   "nbconvert_exporter": "python",
   "pygments_lexer": "ipython3",
   "version": "3.7.12"
  },
  "papermill": {
   "default_parameters": {},
   "duration": 12.374171,
   "end_time": "2022-09-27T03:50:30.632338",
   "environment_variables": {},
   "exception": null,
   "input_path": "__notebook__.ipynb",
   "output_path": "__notebook__.ipynb",
   "parameters": {},
   "start_time": "2022-09-27T03:50:18.258167",
   "version": "2.3.4"
  }
 },
 "nbformat": 4,
 "nbformat_minor": 5
}
