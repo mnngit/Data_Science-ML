{
  "cells": [
    {
      "cell_type": "markdown",
      "metadata": {
        "id": "view-in-github",
        "colab_type": "text"
      },
      "source": [
        "<a href=\"https://colab.research.google.com/github/mnngit/Data_Science-ML/blob/main/titanic_predict_without_using_pipeline.ipynb\" target=\"_parent\"><img src=\"https://colab.research.google.com/assets/colab-badge.svg\" alt=\"Open In Colab\"/></a>"
      ]
    },
    {
      "cell_type": "code",
      "execution_count": null,
      "metadata": {
        "id": "3rvXda3y_1s9"
      },
      "outputs": [],
      "source": [
        "import pickle\n",
        "import numpy as np"
      ]
    },
    {
      "cell_type": "markdown",
      "source": [
        "#  **Prevent Google Colab from frequently disconnection** "
      ],
      "metadata": {
        "id": "YOVjDl-vOF73"
      }
    },
    {
      "cell_type": "code",
      "source": [
        "# function ConnectButton(){\n",
        "#     console.log(\"Working\");\n",
        "\n",
        "#     document.querySfelector(\"#connect\").click()\n",
        "# }\n",
        "\n",
        "# setInterval(ConnectButton,60000)"
      ],
      "metadata": {
        "id": "LhkBpL0RND1R"
      },
      "execution_count": null,
      "outputs": []
    },
    {
      "cell_type": "markdown",
      "source": [
        "# **Mounting Google Drive**"
      ],
      "metadata": {
        "id": "NJ--GhpPPBpe"
      }
    },
    {
      "cell_type": "code",
      "execution_count": null,
      "metadata": {
        "colab": {
          "base_uri": "https://localhost:8080/"
        },
        "id": "Gz_1MzlVIkpl",
        "outputId": "c3ceec8a-ec32-4796-88d6-aa14e3c40473"
      },
      "outputs": [
        {
          "output_type": "stream",
          "name": "stdout",
          "text": [
            "Drive already mounted at /content/drive/; to attempt to forcibly remount, call drive.mount(\"/content/drive/\", force_remount=True).\n"
          ]
        }
      ],
      "source": [
        "from google.colab import drive\n",
        "drive.mount('/content/drive/')"
      ]
    },
    {
      "cell_type": "code",
      "execution_count": null,
      "metadata": {
        "id": "xZ98t_a8LfVT"
      },
      "outputs": [],
      "source": [
        "ohe_sex = pickle.load(open('/content/drive/MyDrive/100DML/models/ohe_sex.pkl','rb'))\n",
        "ohe_embarked = pickle.load(open('/content/drive/MyDrive/100DML/models/ohe_embarked.pkl','rb'))\n",
        "clf = pickle.load(open('/content/drive/MyDrive/100DML/models/clf.pkl','rb'))"
      ]
    },
    {
      "cell_type": "code",
      "execution_count": null,
      "metadata": {
        "id": "9bviZU_iO3oF"
      },
      "outputs": [],
      "source": [
        "# assume user input\n",
        "# Pclass \tSex \tAge \tSibSp \tParch \tFare \tEmbarked\n",
        "# 1 \tmale \t45.5 \t0 \t0 \t28.5000 \tS\n",
        "test_input = np.array([2,'male', 31, 0, 0, 10.5, 'S'], dtype=object).reshape(1,7)"
      ]
    },
    {
      "cell_type": "code",
      "execution_count": null,
      "metadata": {
        "colab": {
          "base_uri": "https://localhost:8080/"
        },
        "id": "8DiCdkq2RLv5",
        "outputId": "ef19ee44-5cda-42a0-ee06-592507ed24a7"
      },
      "outputs": [
        {
          "output_type": "execute_result",
          "data": {
            "text/plain": [
              "array([[2, 'male', 31, 0, 0, 10.5, 'S']], dtype=object)"
            ]
          },
          "metadata": {},
          "execution_count": 16
        }
      ],
      "source": [
        "test_input"
      ]
    },
    {
      "cell_type": "code",
      "execution_count": null,
      "metadata": {
        "colab": {
          "base_uri": "https://localhost:8080/"
        },
        "id": "buShAWVVROWE",
        "outputId": "4e2a4620-c4ba-48dd-a9be-7eeddcee3692"
      },
      "outputs": [
        {
          "output_type": "stream",
          "name": "stderr",
          "text": [
            "/usr/local/lib/python3.7/dist-packages/sklearn/base.py:451: UserWarning: X does not have valid feature names, but OneHotEncoder was fitted with feature names\n",
            "  \"X does not have valid feature names, but\"\n"
          ]
        }
      ],
      "source": [
        "test_input_sex = ohe_sex.transform(test_input[:,1].reshape(1,1))"
      ]
    },
    {
      "cell_type": "code",
      "execution_count": null,
      "metadata": {
        "colab": {
          "base_uri": "https://localhost:8080/"
        },
        "id": "EOfyENnuSNud",
        "outputId": "21ea1fa6-9212-46e9-d172-cf3d8bc778cf"
      },
      "outputs": [
        {
          "output_type": "execute_result",
          "data": {
            "text/plain": [
              "array([[0., 1.]])"
            ]
          },
          "metadata": {},
          "execution_count": 18
        }
      ],
      "source": [
        "test_input_sex"
      ]
    },
    {
      "cell_type": "code",
      "execution_count": null,
      "metadata": {
        "id": "fP-3WYHISUVU"
      },
      "outputs": [],
      "source": [
        "test_input_embarked = ohe_embarked.transform(test_input[:,-1].reshape(1,1))"
      ]
    },
    {
      "cell_type": "code",
      "execution_count": null,
      "metadata": {
        "colab": {
          "base_uri": "https://localhost:8080/"
        },
        "id": "Cx4rtkjJWP5W",
        "outputId": "bd648c33-99d1-4b54-ef9e-e96c9a4543db"
      },
      "outputs": [
        {
          "output_type": "execute_result",
          "data": {
            "text/plain": [
              "array([[0., 0., 1.]])"
            ]
          },
          "metadata": {},
          "execution_count": 20
        }
      ],
      "source": [
        "test_input_embarked"
      ]
    },
    {
      "cell_type": "code",
      "execution_count": null,
      "metadata": {
        "id": "wINnT_SgWTBr"
      },
      "outputs": [],
      "source": [
        "test_input_age = test_input[:,2].reshape(1, 1)"
      ]
    },
    {
      "cell_type": "code",
      "source": [
        "test_input_age"
      ],
      "metadata": {
        "id": "ZsKcH5AES_lY",
        "colab": {
          "base_uri": "https://localhost:8080/"
        },
        "outputId": "dd28708c-aa31-464f-e0ad-63813ec8716f"
      },
      "execution_count": null,
      "outputs": [
        {
          "output_type": "execute_result",
          "data": {
            "text/plain": [
              "array([[31]], dtype=object)"
            ]
          },
          "metadata": {},
          "execution_count": 22
        }
      ]
    },
    {
      "cell_type": "code",
      "source": [
        "test_input_transformed = np.concatenate((test_input[:,[0,3,4,5]], test_input_age, test_input_sex, test_input_embarked), axis=1)"
      ],
      "metadata": {
        "id": "lHsnVn2oTT1Y"
      },
      "execution_count": null,
      "outputs": []
    },
    {
      "cell_type": "code",
      "source": [
        "test_input_transformed.shape"
      ],
      "metadata": {
        "id": "-p_J-u3TU8L6",
        "colab": {
          "base_uri": "https://localhost:8080/"
        },
        "outputId": "1bfab294-18ba-40f2-908b-da4dd3286fcc"
      },
      "execution_count": 24,
      "outputs": [
        {
          "output_type": "execute_result",
          "data": {
            "text/plain": [
              "(1, 10)"
            ]
          },
          "metadata": {},
          "execution_count": 24
        }
      ]
    },
    {
      "cell_type": "code",
      "source": [
        "clf.predict(test_input_transformed)"
      ],
      "metadata": {
        "colab": {
          "base_uri": "https://localhost:8080/"
        },
        "id": "Nr2-1cJ2Va1M",
        "outputId": "84849db8-f8de-44b2-827e-f9e4b30aece5"
      },
      "execution_count": 25,
      "outputs": [
        {
          "output_type": "execute_result",
          "data": {
            "text/plain": [
              "array([1])"
            ]
          },
          "metadata": {},
          "execution_count": 25
        }
      ]
    },
    {
      "cell_type": "code",
      "source": [],
      "metadata": {
        "id": "bd8JKDu9Vo_9"
      },
      "execution_count": null,
      "outputs": []
    }
  ],
  "metadata": {
    "colab": {
      "collapsed_sections": [],
      "provenance": [],
      "authorship_tag": "ABX9TyMEZcAncLb4MXL5khnKBxnT",
      "include_colab_link": true
    },
    "kernelspec": {
      "display_name": "Python 3",
      "name": "python3"
    },
    "language_info": {
      "name": "python"
    }
  },
  "nbformat": 4,
  "nbformat_minor": 0
}