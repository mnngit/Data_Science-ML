{
  "nbformat": 4,
  "nbformat_minor": 0,
  "metadata": {
    "colab": {
      "provenance": [],
      "collapsed_sections": [],
      "authorship_tag": "ABX9TyPf9TFESm1/pyAhPaYLMgT1",
      "include_colab_link": true
    },
    "kernelspec": {
      "name": "python3",
      "display_name": "Python 3"
    },
    "language_info": {
      "name": "python"
    }
  },
  "cells": [
    {
      "cell_type": "markdown",
      "metadata": {
        "id": "view-in-github",
        "colab_type": "text"
      },
      "source": [
        "<a href=\"https://colab.research.google.com/github/mnngit/Data_Science-ML/blob/main/sklearnTutorial.ipynb\" target=\"_parent\"><img src=\"https://colab.research.google.com/assets/colab-badge.svg\" alt=\"Open In Colab\"/></a>"
      ]
    },
    {
      "cell_type": "code",
      "execution_count": 19,
      "metadata": {
        "id": "q4-I1o2ZRfb8"
      },
      "outputs": [],
      "source": [
        "import pandas as pd\n"
      ]
    },
    {
      "cell_type": "code",
      "source": [
        "from google.colab import drive"
      ],
      "metadata": {
        "id": "S2KNOBGTSBR5"
      },
      "execution_count": 20,
      "outputs": []
    },
    {
      "cell_type": "code",
      "source": [
        "drive.mount(\"/content/drive\")"
      ],
      "metadata": {
        "colab": {
          "base_uri": "https://localhost:8080/"
        },
        "id": "NX9NP1_jTNm4",
        "outputId": "270b06fc-d610-448d-d9c7-f7b528d26c4c"
      },
      "execution_count": 21,
      "outputs": [
        {
          "output_type": "stream",
          "name": "stdout",
          "text": [
            "Drive already mounted at /content/drive; to attempt to forcibly remount, call drive.mount(\"/content/drive\", force_remount=True).\n"
          ]
        }
      ]
    },
    {
      "cell_type": "code",
      "source": [
        "total_data = pd.read_csv(\"/content/drive/MyDrive/data/Seed_Data.csv\")"
      ],
      "metadata": {
        "id": "AynsyH3iVOX6"
      },
      "execution_count": 22,
      "outputs": []
    },
    {
      "cell_type": "code",
      "source": [
        "total_data.describe"
      ],
      "metadata": {
        "colab": {
          "base_uri": "https://localhost:8080/"
        },
        "id": "vEZ8Yul5Vl-q",
        "outputId": "2c317e11-0e46-41b1-9958-598c67ec3d81"
      },
      "execution_count": 23,
      "outputs": [
        {
          "output_type": "execute_result",
          "data": {
            "text/plain": [
              "<bound method NDFrame.describe of          A      P       C     LK     WK  A_Coef    LKG  target\n",
              "0    15.26  14.84  0.8710  5.763  3.312   2.221  5.220       0\n",
              "1    14.88  14.57  0.8811  5.554  3.333   1.018  4.956       0\n",
              "2    14.29  14.09  0.9050  5.291  3.337   2.699  4.825       0\n",
              "3    13.84  13.94  0.8955  5.324  3.379   2.259  4.805       0\n",
              "4    16.14  14.99  0.9034  5.658  3.562   1.355  5.175       0\n",
              "..     ...    ...     ...    ...    ...     ...    ...     ...\n",
              "205  12.19  13.20  0.8783  5.137  2.981   3.631  4.870       2\n",
              "206  11.23  12.88  0.8511  5.140  2.795   4.325  5.003       2\n",
              "207  13.20  13.66  0.8883  5.236  3.232   8.315  5.056       2\n",
              "208  11.84  13.21  0.8521  5.175  2.836   3.598  5.044       2\n",
              "209  12.30  13.34  0.8684  5.243  2.974   5.637  5.063       2\n",
              "\n",
              "[210 rows x 8 columns]>"
            ]
          },
          "metadata": {},
          "execution_count": 23
        }
      ]
    },
    {
      "cell_type": "code",
      "source": [
        "X = total_data.iloc[:, 0:7]\n",
        "X.info"
      ],
      "metadata": {
        "id": "XlrdxmCWVt_9",
        "colab": {
          "base_uri": "https://localhost:8080/"
        },
        "outputId": "85283215-4b53-47eb-d177-20003012d4fb"
      },
      "execution_count": 24,
      "outputs": [
        {
          "output_type": "execute_result",
          "data": {
            "text/plain": [
              "<bound method DataFrame.info of          A      P       C     LK     WK  A_Coef    LKG\n",
              "0    15.26  14.84  0.8710  5.763  3.312   2.221  5.220\n",
              "1    14.88  14.57  0.8811  5.554  3.333   1.018  4.956\n",
              "2    14.29  14.09  0.9050  5.291  3.337   2.699  4.825\n",
              "3    13.84  13.94  0.8955  5.324  3.379   2.259  4.805\n",
              "4    16.14  14.99  0.9034  5.658  3.562   1.355  5.175\n",
              "..     ...    ...     ...    ...    ...     ...    ...\n",
              "205  12.19  13.20  0.8783  5.137  2.981   3.631  4.870\n",
              "206  11.23  12.88  0.8511  5.140  2.795   4.325  5.003\n",
              "207  13.20  13.66  0.8883  5.236  3.232   8.315  5.056\n",
              "208  11.84  13.21  0.8521  5.175  2.836   3.598  5.044\n",
              "209  12.30  13.34  0.8684  5.243  2.974   5.637  5.063\n",
              "\n",
              "[210 rows x 7 columns]>"
            ]
          },
          "metadata": {},
          "execution_count": 24
        }
      ]
    },
    {
      "cell_type": "code",
      "source": [
        "y = total_data.iloc[:, 7]"
      ],
      "metadata": {
        "id": "iNrXw5azRuY2"
      },
      "execution_count": 25,
      "outputs": []
    },
    {
      "cell_type": "code",
      "source": [
        "y.describe"
      ],
      "metadata": {
        "colab": {
          "base_uri": "https://localhost:8080/"
        },
        "id": "sgWgn-mKTgR5",
        "outputId": "6fab5d20-cd83-4eec-f76e-dbf8a73f86e9"
      },
      "execution_count": 26,
      "outputs": [
        {
          "output_type": "execute_result",
          "data": {
            "text/plain": [
              "<bound method NDFrame.describe of 0      0\n",
              "1      0\n",
              "2      0\n",
              "3      0\n",
              "4      0\n",
              "      ..\n",
              "205    2\n",
              "206    2\n",
              "207    2\n",
              "208    2\n",
              "209    2\n",
              "Name: target, Length: 210, dtype: int64>"
            ]
          },
          "metadata": {},
          "execution_count": 26
        }
      ]
    },
    {
      "cell_type": "code",
      "source": [
        "import sklearn\n",
        "from sklearn import svm\n",
        "from sklearn.svm import SVC"
      ],
      "metadata": {
        "id": "vQyMa92fTiWh"
      },
      "execution_count": 27,
      "outputs": []
    },
    {
      "cell_type": "code",
      "source": [
        "from sklearn.model_selection import train_test_split"
      ],
      "metadata": {
        "id": "PMs4Y73RO4Lw"
      },
      "execution_count": 28,
      "outputs": []
    },
    {
      "cell_type": "code",
      "source": [
        "X_train, X_test, y_train, y_test = train_test_split(X, y, test_size = 0.2, random_state=13)"
      ],
      "metadata": {
        "id": "yiMSYjf7U_Fg"
      },
      "execution_count": 29,
      "outputs": []
    },
    {
      "cell_type": "code",
      "source": [
        "from sklearn.preprocessing import StandardScaler"
      ],
      "metadata": {
        "id": "HlpkZGTrV00E"
      },
      "execution_count": 30,
      "outputs": []
    },
    {
      "cell_type": "code",
      "source": [
        "sc = StandardScaler()\n",
        "X_train = sc.fit_transform(X_train)\n",
        "X_test = sc.transform(X_test)\n"
      ],
      "metadata": {
        "id": "ubaYcpM6XcjJ"
      },
      "execution_count": 31,
      "outputs": []
    },
    {
      "cell_type": "code",
      "source": [
        "clf = svm.SVC()\n",
        "clf.fit(X_train, y_train)"
      ],
      "metadata": {
        "colab": {
          "base_uri": "https://localhost:8080/"
        },
        "id": "ne_wPeKGcUXG",
        "outputId": "1c79dc0a-ea74-4f39-9e2d-57272a63c148"
      },
      "execution_count": 34,
      "outputs": [
        {
          "output_type": "execute_result",
          "data": {
            "text/plain": [
              "SVC()"
            ]
          },
          "metadata": {},
          "execution_count": 34
        }
      ]
    },
    {
      "cell_type": "code",
      "source": [
        "pred_clf = clf.predict(X_test)"
      ],
      "metadata": {
        "id": "FJoQa7GbwEx7"
      },
      "execution_count": 35,
      "outputs": []
    },
    {
      "cell_type": "code",
      "source": [
        "sklearn.metrics.accuracy_score(y_test, pred_clf)"
      ],
      "metadata": {
        "colab": {
          "base_uri": "https://localhost:8080/"
        },
        "id": "K7E0BYC3ydu9",
        "outputId": "45434f9c-aeae-4ac2-95fc-2283809bd655"
      },
      "execution_count": 37,
      "outputs": [
        {
          "output_type": "execute_result",
          "data": {
            "text/plain": [
              "0.9523809523809523"
            ]
          },
          "metadata": {},
          "execution_count": 37
        }
      ]
    },
    {
      "cell_type": "code",
      "source": [
        "print(sklearn.metrics.classification_report(y_test, pred_clf))"
      ],
      "metadata": {
        "colab": {
          "base_uri": "https://localhost:8080/"
        },
        "id": "MzWRCzA_zDCQ",
        "outputId": "e1c4f50e-ea61-4be7-87eb-bcf7ede3fea7"
      },
      "execution_count": 39,
      "outputs": [
        {
          "output_type": "stream",
          "name": "stdout",
          "text": [
            "              precision    recall  f1-score   support\n",
            "\n",
            "           0       0.80      1.00      0.89         8\n",
            "           1       1.00      0.95      0.97        19\n",
            "           2       1.00      0.93      0.97        15\n",
            "\n",
            "    accuracy                           0.95        42\n",
            "   macro avg       0.93      0.96      0.94        42\n",
            "weighted avg       0.96      0.95      0.95        42\n",
            "\n"
          ]
        }
      ]
    },
    {
      "cell_type": "code",
      "source": [],
      "metadata": {
        "id": "Knn_cZvD0B-I"
      },
      "execution_count": null,
      "outputs": []
    }
  ]
}